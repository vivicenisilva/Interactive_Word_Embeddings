{
 "cells": [
  {
   "cell_type": "markdown",
   "metadata": {},
   "source": [
    "# Interactive Recommendation System with Word Embeddings using Word2Vec, Plotly, and NetworkX\n",
    "\n",
    "## Project Breakdown\n",
    "- Task 1: Introduction\n",
    "- Task 2: Exploratory Data Analysis and Preprocessing (you are here)\n",
    "- Task 3: Word2Vec with Gensim\n",
    "- Task 4: Exploring Results\n",
    "- Task 5: Building and Visualizing Interactive Network Graph\n",
    "\n",
    "## Task 2: Exploratory Data Analysis and Preprocessing\n",
    "\n",
    "[This is the dataset](https://eightportions.com/datasets/Recipes/#fn:1) we will be using. It is collated by Ryan Lee, sourced from [Food Network](https://www.foodnetwork.com/), [Epicurious](https://www.epicurious.com/), and [Allrecipes](https://www.allrecipes.com/)."
   ]
  },
  {
   "cell_type": "code",
   "execution_count": 16,
   "metadata": {},
   "outputs": [],
   "source": [
    "from gensim.parsing.preprocessing import remove_stopwords\n",
    "from tqdm import tqdm\n",
    "import pandas as pd\n",
    "import pickle\n",
    "import string\n",
    "import json"
   ]
  },
  {
   "cell_type": "code",
   "execution_count": 5,
   "metadata": {},
   "outputs": [],
   "source": [
    "recipe_sources = ['ar', 'epi', 'fn']"
   ]
  },
  {
   "cell_type": "code",
   "execution_count": 8,
   "metadata": {},
   "outputs": [],
   "source": [
    "df = pd.DataFrame()\n",
    "sources, titles, ingredients, instructions = [], [], [], []\n",
    "for recipe_source in recipe_sources:\n",
    "    data = json.load(open(f'Data/Dataset/recipes_raw_nosource_{recipe_source}.json', 'r'))\n",
    "    for _, recipe in data.items():\n",
    "        if ('title' in recipe) and ('ingredients' in recipe) and ('instructions' in recipe):\n",
    "            sources.append(recipe_source)\n",
    "            titles.append(recipe['title'])\n",
    "            ingredients.append([str(ingredient).replace('ADVERTISEMENT', '') for ingredient in recipe['ingredients']])\n",
    "            instructions.append(str(recipe['instructions']).replace('ADVERTISEMENT', '').replace('\\n', ' '))\n",
    "            \n",
    "df['source'] = sources\n",
    "df['title'] = titles\n",
    "df['ingredients'] = ingredients\n",
    "df['instructions'] = instructions"
   ]
  },
  {
   "cell_type": "code",
   "execution_count": 9,
   "metadata": {},
   "outputs": [],
   "source": [
    "to_remove = [\n",
    "    'tablespoon',\n",
    "    'tablespoons',\n",
    "    'teaspoon',\n",
    "    'teaspoons',\n",
    "    'tsp',\n",
    "    'tsps',\n",
    "    'tbsp',\n",
    "    'tbsps',\n",
    "    'pound',\n",
    "    'pounds',\n",
    "    'grams',\n",
    "    'mg',\n",
    "    'ounce'\n",
    "    'ounces',\n",
    "    'kg',\n",
    "    'crushed',\n",
    "    'chopped',\n",
    "    'finely',\n",
    "    'softened',\n",
    "    'cups',\n",
    "    'cup'\n",
    "]\n",
    "\n",
    "translation_table = str.maketrans('', '', string.punctuation+string.digits)"
   ]
  },
  {
   "cell_type": "code",
   "execution_count": 10,
   "metadata": {},
   "outputs": [],
   "source": [
    "def preprocess(items):\n",
    "    res = []\n",
    "    for i, item in enumerate(tqdm(items)):\n",
    "        temp = item.lower().replace('-', ' ')\n",
    "        temp = temp.translate(translation_table)\n",
    "        temp = remove_stopwords(temp)\n",
    "        for stop_word in to_remove:\n",
    "            temp = temp.replace(stop_word, '')\n",
    "        res.append(temp.split())\n",
    "    return res"
   ]
  },
  {
   "cell_type": "code",
   "execution_count": 13,
   "metadata": {},
   "outputs": [],
   "source": [
    "instructions = df.instructions.values.tolist()\n",
    "ingredients = [', '.join(x) for x in df.ingredients.values]"
   ]
  },
  {
   "cell_type": "code",
   "execution_count": 14,
   "metadata": {},
   "outputs": [
    {
     "data": {
      "application/vnd.jupyter.widget-view+json": {
       "model_id": "31b09224133a4614aa4cbd63ff1b44e2",
       "version_major": 2,
       "version_minor": 0
      },
      "text/plain": [
       "HBox(children=(FloatProgress(value=0.0, max=249294.0), HTML(value='')))"
      ]
     },
     "metadata": {},
     "output_type": "display_data"
    },
    {
     "name": "stdout",
     "output_type": "stream",
     "text": [
      "\n"
     ]
    }
   ],
   "source": [
    "train_data = preprocess(instructions+ingredients)"
   ]
  },
  {
   "cell_type": "code",
   "execution_count": 18,
   "metadata": {},
   "outputs": [],
   "source": [
    "with open('Data/train_data.pkl', 'wb') as f:\n",
    "    pickle.dump(train_data, f)"
   ]
  },
  {
   "cell_type": "code",
   "execution_count": null,
   "metadata": {},
   "outputs": [],
   "source": []
  }
 ],
 "metadata": {
  "kernelspec": {
   "display_name": "Python 3",
   "language": "python",
   "name": "python3"
  },
  "language_info": {
   "codemirror_mode": {
    "name": "ipython",
    "version": 3
   },
   "file_extension": ".py",
   "mimetype": "text/x-python",
   "name": "python",
   "nbconvert_exporter": "python",
   "pygments_lexer": "ipython3",
   "version": "3.7.4"
  }
 },
 "nbformat": 4,
 "nbformat_minor": 4
}
